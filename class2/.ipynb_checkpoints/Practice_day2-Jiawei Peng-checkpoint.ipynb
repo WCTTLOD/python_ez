{
 "cells": [
  {
   "cell_type": "code",
   "execution_count": 3,
   "metadata": {},
   "outputs": [],
   "source": [
    "#run this part before doing the practice\n",
    "\n",
    "def nacci(length):\n",
    "    fib = [1, 1]\n",
    "    i = 2\n",
    "    while i < length:\n",
    "        fib += [fib[-1] + fib[-2]]\n",
    "        i += 1\n",
    "    return fib\n",
    "\n",
    "import hashlib\n",
    "\n",
    "def generate_dict():\n",
    "    keys = [\"hello\", \"there\", \"hello_there\", \"hello there\", \"dictionaries are cool\"]\n",
    "    return {key: hashlib.md5(key.encode('utf-8')).hexdigest() for key in keys}\n",
    "\n"
   ]
  },
  {
   "cell_type": "code",
   "execution_count": 4,
   "metadata": {},
   "outputs": [],
   "source": [
    "#run this part before doing the practice\n",
    "fibolist = nacci(50)\n",
    "demodict1 = generate_dict()"
   ]
  },
  {
   "cell_type": "code",
   "execution_count": 5,
   "metadata": {},
   "outputs": [
    {
     "data": {
      "text/plain": [
       "12586269025"
      ]
     },
     "execution_count": 5,
     "metadata": {},
     "output_type": "execute_result"
    }
   ],
   "source": [
    "#1. Find the last element of fibolist:\n",
    "fibolist[-1]"
   ]
  },
  {
   "cell_type": "code",
   "execution_count": 6,
   "metadata": {},
   "outputs": [
    {
     "name": "stdout",
     "output_type": "stream",
     "text": [
      "22768774561\n"
     ]
    }
   ],
   "source": [
    "#2. Find the sum of all even entries (indices 0, 2, 4,...) of fibolist:\n",
    "even_numbers_fibolist=[]\n",
    "sum_numbers=0\n",
    "sum_even_numbers=0\n",
    "for number in fibolist:\n",
    "    sum_numbers=sum_numbers+number\n",
    "    if sum_numbers % 2==0:\n",
    "        even_numbers_fibolist.append(number)\n",
    "        sum_even_numbers=sum_even_numbers+number\n",
    "        \n",
    "print(sum_even_numbers)"
   ]
  },
  {
   "cell_type": "code",
   "execution_count": 7,
   "metadata": {},
   "outputs": [
    {
     "data": {
      "text/plain": [
       "[1,\n",
       " 1,\n",
       " 2,\n",
       " 3,\n",
       " 5,\n",
       " 8,\n",
       " 13,\n",
       " 21,\n",
       " 34,\n",
       " 55,\n",
       " 89,\n",
       " 144,\n",
       " 233,\n",
       " 377,\n",
       " 610,\n",
       " 987,\n",
       " 1597,\n",
       " 2584,\n",
       " 4181,\n",
       " 6765,\n",
       " 10946,\n",
       " 17711,\n",
       " 28657,\n",
       " 46368,\n",
       " 75025,\n",
       " 121393,\n",
       " 196418,\n",
       " 317811,\n",
       " 514229,\n",
       " 832040,\n",
       " 1346269,\n",
       " 2178309,\n",
       " 3524578,\n",
       " 5702887,\n",
       " 9227465,\n",
       " 14930352,\n",
       " 24157817,\n",
       " 39088169,\n",
       " 63245986,\n",
       " 102334155,\n",
       " 165580141,\n",
       " 267914296,\n",
       " 433494437,\n",
       " 701408733,\n",
       " 1134903170,\n",
       " 1836311903,\n",
       " 2971215073,\n",
       " 4807526976,\n",
       " 7778742049,\n",
       " 12586269025,\n",
       " 20008707784]"
      ]
     },
     "execution_count": 7,
     "metadata": {},
     "output_type": "execute_result"
    }
   ],
   "source": [
    "#3 Delete the number by accident. Assume the number is 20008707784\n",
    "fibolist.append(20008707784)\n",
    "fibolist"
   ]
  },
  {
   "cell_type": "code",
   "execution_count": 8,
   "metadata": {},
   "outputs": [
    {
     "data": {
      "text/plain": [
       "[20008707784,\n",
       " 12586269025,\n",
       " 7778742049,\n",
       " 4807526976,\n",
       " 2971215073,\n",
       " 1836311903,\n",
       " 1134903170,\n",
       " 701408733,\n",
       " 433494437,\n",
       " 267914296,\n",
       " 165580141,\n",
       " 102334155,\n",
       " 63245986,\n",
       " 39088169,\n",
       " 24157817,\n",
       " 14930352,\n",
       " 9227465,\n",
       " 5702887,\n",
       " 3524578,\n",
       " 2178309,\n",
       " 1346269,\n",
       " 832040,\n",
       " 514229,\n",
       " 317811,\n",
       " 196418,\n",
       " 121393,\n",
       " 75025,\n",
       " 46368,\n",
       " 28657,\n",
       " 17711,\n",
       " 10946,\n",
       " 6765,\n",
       " 4181,\n",
       " 2584,\n",
       " 1597,\n",
       " 987,\n",
       " 610,\n",
       " 377,\n",
       " 233,\n",
       " 144,\n",
       " 89,\n",
       " 55,\n",
       " 34,\n",
       " 21,\n",
       " 13,\n",
       " 8,\n",
       " 5,\n",
       " 3,\n",
       " 2,\n",
       " 1,\n",
       " 1]"
      ]
     },
     "execution_count": 8,
     "metadata": {},
     "output_type": "execute_result"
    }
   ],
   "source": [
    "#4. Can you put a reversed copy of fibolist into fibolist_reversed without changing fibolist in place?\n",
    "fibolist_copy=fibolist.copy()\n",
    "fibolist_copy.reverse()\n",
    "fibolist_copy"
   ]
  },
  {
   "cell_type": "code",
   "execution_count": 9,
   "metadata": {},
   "outputs": [
    {
     "data": {
      "text/plain": [
       "[1, 2, 3, 4, 5, 'a', 'b', 'c', 'd', 'e']"
      ]
     },
     "execution_count": 9,
     "metadata": {},
     "output_type": "execute_result"
    }
   ],
   "source": [
    "A = [1, 2, 3, 4, 5]\n",
    "B = [\"a\", \"b\", \"c\", \"d\", \"e\"]\n",
    "#5. Two lists can be concatenated with +. Concatenate A and B together, and store the result in A_and_B.\n",
    "A_and_B = (A+B).copy()\n",
    "A_and_B"
   ]
  },
  {
   "cell_type": "code",
   "execution_count": 10,
   "metadata": {},
   "outputs": [
    {
     "name": "stdout",
     "output_type": "stream",
     "text": [
      "1337 in the fibo list? False\n"
     ]
    }
   ],
   "source": [
    "#6. Check if 1337 is in fibolist. If it is, make is_1337_fibo True, otherwise make it False.\n",
    "if (1337 in fibolist)==False:\n",
    "    is_1337_fibo=False\n",
    "else:\n",
    "    is_1337_fibo=True\n",
    "\n",
    "print(\"1337 in the fibo list? {0}\".format(is_1337_fibo))\n"
   ]
  },
  {
   "cell_type": "code",
   "execution_count": 33,
   "metadata": {},
   "outputs": [
    {
     "name": "stdout",
     "output_type": "stream",
     "text": [
      "(0, 2, 'hello', 5, 7, 9, 1, 1, 91)\n",
      "(1, 3, 4, 6, 8, 10, 4, 1)\n"
     ]
    }
   ],
   "source": [
    "#####Tuples!#####\n",
    "maybe_your_first_tuple = (0, 1, 2, 3, \"hello\", 4, 5, 6, 7, 8, 9, 10, 1, 4, 1, 1, 91)\n",
    "\n",
    "#7. Tuples also support slicing like lists. Find the even- and odd-indexed entries of the tuple\n",
    "even_entries=maybe_your_first_tuple[0::2]\n",
    "odd_entries=maybe_your_first_tuple[1::2]\n",
    "\n",
    "print(even_entries)\n",
    "print(odd_entries)"
   ]
  },
  {
   "cell_type": "code",
   "execution_count": 15,
   "metadata": {},
   "outputs": [
    {
     "name": "stdout",
     "output_type": "stream",
     "text": [
      "(1, 3, 4, 6, 8, 10, 4, 1)\n"
     ]
    }
   ],
   "source": [
    "print(odd_entries)"
   ]
  },
  {
   "cell_type": "code",
   "execution_count": 16,
   "metadata": {},
   "outputs": [
    {
     "name": "stdout",
     "output_type": "stream",
     "text": [
      "(0, 2, 'hello', 5, 7, 9, 1, 1, 91)\n"
     ]
    }
   ],
   "source": [
    "print(even_entries)"
   ]
  },
  {
   "cell_type": "code",
   "execution_count": 18,
   "metadata": {},
   "outputs": [
    {
     "name": "stdout",
     "output_type": "stream",
     "text": [
      "{1, 2, 3, 4, 5, 6, 7, 8, 2345, 234, 523, 45, 243, 52, 345}\n"
     ]
    }
   ],
   "source": [
    "#####Sets!#####\n",
    "\n",
    "#8. Sets are often used to find the distinct elements of a list. Find the distinct elements below:\n",
    "some_repeats = [1,1,1,1,1,1,2,2,2,2,3,4,5,6,7,8,2345,345,2,52,243,5,2,345,523,45,5,4,2,2,3,5,234,2345]\n",
    "some_repeats_copy=some_repeats.copy()\n",
    "distinct_numbers=set(some_repeats_copy)\n",
    "print(distinct_numbers)"
   ]
  },
  {
   "cell_type": "code",
   "execution_count": 19,
   "metadata": {},
   "outputs": [
    {
     "name": "stdout",
     "output_type": "stream",
     "text": [
      "{0, 1, 2, 3, 4, 5, 6, 7, 8, 9, 10, 11, 12, 13, 14, 15, 16, 17, 18, 19, 20, 21, 22, 23, 24, 25, 26, 27, 28, 29, 30, 31, 32, 33, 34, 35, 36, 37, 38, 39, 40, 41, 42, 43, 44, 45, 46, 47, 48, 49, 50, 51, 52, 53, 54, 55, 56, 57, 58, 59, 60, 61, 62, 63, 64, 65, 66, 67, 68, 69, 70, 71, 72, 73, 74, 75, 76, 77, 78, 79, 80, 81, 82, 83, 84, 85, 86, 87, 88, 89, 90, 91, 92, 93, 94, 95, 96, 97, 98, 99, 100, 102, 104, 106, 108, 110, 112, 114, 116, 118, 120, 122, 124, 126, 128, 130, 132, 134, 136, 138, 140, 142, 144, 146, 148, 150, 152, 154, 156, 158, 160, 162, 164, 166, 168, 170, 172, 174, 176, 178, 180, 182, 184, 186, 188, 190, 192, 194, 196, 198}\n",
      "{0, 2, 4, 6, 8, 10, 12, 14, 16, 18, 20, 22, 24, 26, 28, 30, 32, 34, 36, 38, 40, 42, 44, 46, 48, 50, 52, 54, 56, 58, 60, 62, 64, 66, 68, 70, 72, 74, 76, 78, 80, 82, 84, 86, 88, 90, 92, 94, 96, 98}\n"
     ]
    }
   ],
   "source": [
    "set_A = set(range(100))\n",
    "set_B = set(range(0,200,2))\n",
    "\n",
    "#9. Apply the union and intersection operations to set_A and set_B as indicated:\n",
    "union_A_B=set_A | set_B\n",
    "intersection_A_B = set_A &set_B\n",
    "print(union_A_B)\n",
    "print(intersection_A_B)"
   ]
  },
  {
   "cell_type": "code",
   "execution_count": 31,
   "metadata": {},
   "outputs": [
    {
     "name": "stdout",
     "output_type": "stream",
     "text": [
      "{'key': 'hi there', 'there': 'whats up', 'hello there': 'key2'}\n"
     ]
    }
   ],
   "source": [
    "#####Dictionaries!#####\n",
    "demodict1=dict([(\"key\",\"hi there\"),(\"there\",\"whats up\")])\n",
    "# Dictionary elements are accessed by key rather than position.\n",
    "#10. Try it here - get the value of key \"hello there\" in the dictionary demodict1 (created at the top of this script):\n",
    "demodict1[\"hello there\"]=\"key2\"\n",
    "print(demodict1)"
   ]
  },
  {
   "cell_type": "code",
   "execution_count": 32,
   "metadata": {},
   "outputs": [
    {
     "name": "stdout",
     "output_type": "stream",
     "text": [
      "{'key': 'hi there', 'hello there': 'key2'}\n"
     ]
    }
   ],
   "source": [
    "#11. remove the key \"there\" from demodict1:\n",
    "del demodict1[\"there\"]\n",
    "print(demodict1)"
   ]
  },
  {
   "cell_type": "code",
   "execution_count": 34,
   "metadata": {},
   "outputs": [],
   "source": [
    "#run this part before doing the practice\n",
    "import random\n",
    "random.seed(13789)#随机生成13789个数字？还是说只是特定一个？\n",
    "account_id_list = range(1,51)\n",
    "account_balance_list = [random.randint(-2000,2000) for id in account_id_list]\n",
    "#所以这里是创建了一个list，list的数字随机在【-2000,2000】内生成(目标是idlist里的值）？"
   ]
  },
  {
   "cell_type": "code",
   "execution_count": 40,
   "metadata": {},
   "outputs": [
    {
     "name": "stdout",
     "output_type": "stream",
     "text": [
      "258\n"
     ]
    }
   ],
   "source": [
    "#12. Set total_balance equal to the sum of all the items in\n",
    "# account_balance_list.\n",
    "total_balance=0\n",
    "for number in account_balance_list:\n",
    "    total_balance=total_balance+number\n",
    "print(total_balance)\n",
    "#由于不知道上面的import等代码的具体意义，只能进行模仿。"
   ]
  },
  {
   "cell_type": "code",
   "execution_count": 38,
   "metadata": {},
   "outputs": [
    {
     "name": "stdout",
     "output_type": "stream",
     "text": [
      "30410\n",
      "23\n"
     ]
    }
   ],
   "source": [
    "#13. Set total_credit_balance equal to the sum of all the items\n",
    "# in account_balance_list that are greater than or equal to zero.\n",
    "# Additionally, set num_accounts_with_credit equal to the number\n",
    "# of items that meet this criteria\n",
    "total_credit_balance = 0\n",
    "num_accounts_with_credit=0\n",
    "for balance in account_balance_list:\n",
    "    if balance>=0:\n",
    "        total_credit_balance = total_credit_balance+balance\n",
    "        num_accounts_with_credit=num_accounts_with_credit+1\n",
    "\n",
    "print(total_credit_balance)\n",
    "print(num_accounts_with_credit)"
   ]
  }
 ],
 "metadata": {
  "kernelspec": {
   "display_name": "Python 3",
   "language": "python",
   "name": "python3"
  },
  "language_info": {
   "codemirror_mode": {
    "name": "ipython",
    "version": 3
   },
   "file_extension": ".py",
   "mimetype": "text/x-python",
   "name": "python",
   "nbconvert_exporter": "python",
   "pygments_lexer": "ipython3",
   "version": "3.7.3"
  }
 },
 "nbformat": 4,
 "nbformat_minor": 2
}
